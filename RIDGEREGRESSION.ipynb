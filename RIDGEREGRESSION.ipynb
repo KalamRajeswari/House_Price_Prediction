{
 "cells": [
  {
   "cell_type": "code",
   "execution_count": 11,
   "id": "540c7307-c0e3-480e-9c82-8720bcb11566",
   "metadata": {},
   "outputs": [
    {
     "name": "stdout",
     "output_type": "stream",
     "text": [
      "<class 'pandas.core.frame.DataFrame'>\n",
      "RangeIndex: 32 entries, 0 to 31\n",
      "Data columns (total 12 columns):\n",
      " #   Column  Non-Null Count  Dtype  \n",
      "---  ------  --------------  -----  \n",
      " 0   model   32 non-null     object \n",
      " 1   mpg     32 non-null     float64\n",
      " 2   cyl     32 non-null     int64  \n",
      " 3   disp    32 non-null     float64\n",
      " 4   hp      32 non-null     int64  \n",
      " 5   drat    32 non-null     float64\n",
      " 6   wt      32 non-null     float64\n",
      " 7   qsec    32 non-null     float64\n",
      " 8   vs      32 non-null     int64  \n",
      " 9   am      32 non-null     int64  \n",
      " 10  gear    32 non-null     int64  \n",
      " 11  carb    32 non-null     int64  \n",
      "dtypes: float64(5), int64(6), object(1)\n",
      "memory usage: 3.1+ KB\n",
      "0.9156933981936787\n",
      "0.6853790403745572\n",
      "0.8725805986291925\n"
     ]
    }
   ],
   "source": [
    "#import Libraries\n",
    "\n",
    "import pandas as pd\n",
    "import numpy as np\n",
    "\n",
    "#import the dataset\n",
    "\n",
    "mt =pd.read_csv('mt1cars.csv')\n",
    "\n",
    "#check the first five rows of the data\n",
    "\n",
    "mt.head()\n",
    "#check for null values\n",
    "\n",
    "mt.info()\n",
    "#drop the categorical variable: model from the dataet\n",
    "\n",
    "mt.drop(['model'], axis = 1, inplace = True)\n",
    "mt\n",
    "x = mt.drop(columns = 'hp', axis = 1)\n",
    "y = mt['hp']\n",
    "from sklearn.model_selection import train_test_split \n",
    "x_train, x_test, y_train, y_test = train_test_split(x,y,test_size =1/4,random_state=0)\n",
    "#X_train, X_test, y_train, y_test = train_test_split(X, y, test_size=1/3, random_state=0)\n",
    "#fitting data into the model\n",
    "\n",
    "from sklearn.linear_model import LinearRegression\n",
    "\n",
    "lr = LinearRegression()\n",
    "lr.fit(x_train, y_train)\n",
    "#import r2_score\n",
    "\n",
    "from sklearn.metrics import r2_score\n",
    "#r2-score for train data\n",
    "\n",
    "x_pred_train = lr.predict(x_train)\n",
    "lr2=r2_score(y_train,x_pred_train)\n",
    "print(lr2)\n",
    "\n",
    "#r2-score for test data\n",
    "\n",
    "x_pred_test = lr.predict(x_test)\n",
    "lr1=r2_score(y_test, x_pred_test)\n",
    "print(lr1)\n",
    "\n",
    "from sklearn.linear_model import Ridge\n",
    "\n",
    "ridge = Ridge(alpha=10)\n",
    "ridge.fit(x_train, y_train)\n",
    "x_pred_ridge_test = ridge.predict(x_test)\n",
    "lr3=r2_score(y_test, x_pred_ridge_test)\n",
    "print(lr3)\n"
   ]
  },
  {
   "cell_type": "code",
   "execution_count": 3,
   "id": "a65d6490-779f-443a-baae-6d22f37580a2",
   "metadata": {},
   "outputs": [
    {
     "name": "stdout",
     "output_type": "stream",
     "text": [
      "[ 10.  20.  30.  40.  50.  60.  70.  80.  90. 100.]\n",
      "1.0\n"
     ]
    }
   ],
   "source": [
    "import numpy as np\n",
    "from sklearn.linear_model import LinearRegression\n",
    "x_train=np.array([1,2,3,4,5,6,7,8,9,10]).reshape((-1,1))\n",
    "y_train=np.array([10,20,30,40,50,60,70,80,90,100])\n",
    "lin=LinearRegression()\n",
    "lin.fit(x_train,y_train)\n",
    "print(lin.predict(x_train))\n",
    "print(lin.score(x_train,y_train))"
   ]
  },
  {
   "cell_type": "code",
   "execution_count": 1,
   "id": "e69063fb-e66e-4021-badf-c3eae7dc385f",
   "metadata": {},
   "outputs": [
    {
     "name": "stdout",
     "output_type": "stream",
     "text": [
      "[10.53892216 20.41916168 30.2994012  40.17964072 50.05988024 59.94011976\n",
      " 69.82035928 79.7005988  89.58083832 99.46107784]\n",
      "0.9998565742765965\n"
     ]
    }
   ],
   "source": [
    "import numpy as np\n",
    "from sklearn.linear_model import Ridge\n",
    "x_train=np.array([1,2,3,4,5,6,7,8,9,10]).reshape((-1,1))\n",
    "y_train=np.array([10,20,30,40,50,60,70,80,90,100])\n",
    "lin=Ridge()\n",
    "lin.fit(x_train,y_train)\n",
    "print(lin.predict(x_train))\n",
    "print(lin.score(x_train,y_train))"
   ]
  },
  {
   "cell_type": "code",
   "execution_count": 1,
   "id": "898817e7-0f1c-496e-b073-28f07a9e1fb5",
   "metadata": {},
   "outputs": [
    {
     "name": "stdout",
     "output_type": "stream",
     "text": [
      "10.359\n"
     ]
    }
   ],
   "source": [
    "print(0.45+9.909*1)"
   ]
  },
  {
   "cell_type": "code",
   "execution_count": null,
   "id": "6186af9f-9fe5-4fa7-9005-a44ff77800b2",
   "metadata": {},
   "outputs": [],
   "source": []
  }
 ],
 "metadata": {
  "kernelspec": {
   "display_name": "Python 3 (ipykernel)",
   "language": "python",
   "name": "python3"
  },
  "language_info": {
   "codemirror_mode": {
    "name": "ipython",
    "version": 3
   },
   "file_extension": ".py",
   "mimetype": "text/x-python",
   "name": "python",
   "nbconvert_exporter": "python",
   "pygments_lexer": "ipython3",
   "version": "3.8.10"
  }
 },
 "nbformat": 4,
 "nbformat_minor": 5
}
